{
 "cells": [
  {
   "cell_type": "code",
   "execution_count": 1,
   "id": "3655a6f0",
   "metadata": {},
   "outputs": [],
   "source": [
    "import os\n",
    "import pandas as pd"
   ]
  },
  {
   "cell_type": "code",
   "execution_count": 2,
   "id": "5365978b",
   "metadata": {},
   "outputs": [],
   "source": [
    "data_dir = \"../data/\"\n",
    "\n",
    "sbab_file = os.listdir(data_dir)[-1]\n",
    "sbab_filepath = os.path.join(data_dir, sbab_file)"
   ]
  },
  {
   "cell_type": "code",
   "execution_count": 6,
   "id": "092a784b",
   "metadata": {},
   "outputs": [],
   "source": [
    "df = pd.read_csv(sbab_filepath)"
   ]
  },
  {
   "cell_type": "code",
   "execution_count": 8,
   "id": "2278fa43",
   "metadata": {},
   "outputs": [
    {
     "data": {
      "text/html": [
       "<div>\n",
       "<style scoped>\n",
       "    .dataframe tbody tr th:only-of-type {\n",
       "        vertical-align: middle;\n",
       "    }\n",
       "\n",
       "    .dataframe tbody tr th {\n",
       "        vertical-align: top;\n",
       "    }\n",
       "\n",
       "    .dataframe thead th {\n",
       "        text-align: right;\n",
       "    }\n",
       "</style>\n",
       "<table border=\"1\" class=\"dataframe\">\n",
       "  <thead>\n",
       "    <tr style=\"text-align: right;\">\n",
       "      <th></th>\n",
       "      <th>Unnamed: 0</th>\n",
       "      <th>LoptidText</th>\n",
       "      <th>Rantesats</th>\n",
       "      <th>Rantebindningstid</th>\n",
       "      <th>EffektivRantesats</th>\n",
       "      <th>loan_amount</th>\n",
       "      <th>asset_value</th>\n",
       "      <th>provider</th>\n",
       "    </tr>\n",
       "  </thead>\n",
       "  <tbody>\n",
       "    <tr>\n",
       "      <th>0</th>\n",
       "      <td>0</td>\n",
       "      <td>2023-07-03</td>\n",
       "      <td>4.17</td>\n",
       "      <td>3</td>\n",
       "      <td>0.0</td>\n",
       "      <td>50000</td>\n",
       "      <td>50000</td>\n",
       "      <td>sbab</td>\n",
       "    </tr>\n",
       "    <tr>\n",
       "      <th>1</th>\n",
       "      <td>1</td>\n",
       "      <td>2024-04-03</td>\n",
       "      <td>4.92</td>\n",
       "      <td>12</td>\n",
       "      <td>0.0</td>\n",
       "      <td>50000</td>\n",
       "      <td>50000</td>\n",
       "      <td>sbab</td>\n",
       "    </tr>\n",
       "    <tr>\n",
       "      <th>2</th>\n",
       "      <td>2</td>\n",
       "      <td>2025-03-17</td>\n",
       "      <td>4.91</td>\n",
       "      <td>24</td>\n",
       "      <td>0.0</td>\n",
       "      <td>50000</td>\n",
       "      <td>50000</td>\n",
       "      <td>sbab</td>\n",
       "    </tr>\n",
       "    <tr>\n",
       "      <th>3</th>\n",
       "      <td>3</td>\n",
       "      <td>2026-03-17</td>\n",
       "      <td>4.73</td>\n",
       "      <td>36</td>\n",
       "      <td>0.0</td>\n",
       "      <td>50000</td>\n",
       "      <td>50000</td>\n",
       "      <td>sbab</td>\n",
       "    </tr>\n",
       "    <tr>\n",
       "      <th>4</th>\n",
       "      <td>4</td>\n",
       "      <td>2027-03-17</td>\n",
       "      <td>4.65</td>\n",
       "      <td>48</td>\n",
       "      <td>0.0</td>\n",
       "      <td>50000</td>\n",
       "      <td>50000</td>\n",
       "      <td>sbab</td>\n",
       "    </tr>\n",
       "  </tbody>\n",
       "</table>\n",
       "</div>"
      ],
      "text/plain": [
       "   Unnamed: 0  LoptidText  Rantesats  Rantebindningstid  EffektivRantesats  \\\n",
       "0           0  2023-07-03       4.17                  3                0.0   \n",
       "1           1  2024-04-03       4.92                 12                0.0   \n",
       "2           2  2025-03-17       4.91                 24                0.0   \n",
       "3           3  2026-03-17       4.73                 36                0.0   \n",
       "4           4  2027-03-17       4.65                 48                0.0   \n",
       "\n",
       "   loan_amount  asset_value provider  \n",
       "0        50000        50000     sbab  \n",
       "1        50000        50000     sbab  \n",
       "2        50000        50000     sbab  \n",
       "3        50000        50000     sbab  \n",
       "4        50000        50000     sbab  "
      ]
     },
     "execution_count": 8,
     "metadata": {},
     "output_type": "execute_result"
    }
   ],
   "source": [
    "df.head()"
   ]
  },
  {
   "cell_type": "code",
   "execution_count": null,
   "id": "a6088950",
   "metadata": {},
   "outputs": [],
   "source": []
  }
 ],
 "metadata": {
  "kernelspec": {
   "display_name": "Python 3 (ipykernel)",
   "language": "python",
   "name": "python3"
  },
  "language_info": {
   "codemirror_mode": {
    "name": "ipython",
    "version": 3
   },
   "file_extension": ".py",
   "mimetype": "text/x-python",
   "name": "python",
   "nbconvert_exporter": "python",
   "pygments_lexer": "ipython3",
   "version": "3.11.1"
  }
 },
 "nbformat": 4,
 "nbformat_minor": 5
}
