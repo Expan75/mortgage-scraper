{
 "cells": [
  {
   "cell_type": "code",
   "execution_count": 3,
   "id": "e4edfeec",
   "metadata": {},
   "outputs": [
    {
     "data": {
      "text/plain": [
       "<Figure size 2200x1600 with 0 Axes>"
      ]
     },
     "execution_count": 3,
     "metadata": {},
     "output_type": "execute_result"
    },
    {
     "data": {
      "text/plain": [
       "<Figure size 2200x1600 with 0 Axes>"
      ]
     },
     "metadata": {},
     "output_type": "display_data"
    }
   ],
   "source": [
    "import os\n",
    "import typing\n",
    "import datetime\n",
    "import numpy as np\n",
    "import pandas as pd\n",
    "import seaborn as sns\n",
    "import matplotlib.pyplot as plt\n",
    "import pathlib\n",
    "\n",
    "from typing import Tuple\n",
    "\n",
    "sns.set_theme()\n",
    "plt.figure(figsize = (22,16))"
   ]
  },
  {
   "cell_type": "code",
   "execution_count": 4,
   "id": "3aeb6f5a",
   "metadata": {},
   "outputs": [],
   "source": [
    "# file management to set up data directory\n",
    "current_folder = globals()['_dh'][0]\n",
    "project_folder = \"/\".join(str(current_folder).split(\"/\")[:-1])\n",
    "data_directory = os.path.join(project_folder, \"data\")"
   ]
  },
  {
   "cell_type": "code",
   "execution_count": 5,
   "id": "ef3e0551",
   "metadata": {},
   "outputs": [
    {
     "data": {
      "text/plain": [
       "['sbab_mortgage_pricing_11_04_23.csv',\n",
       " 'ica_mortgage_pricing_20_04_23.csv',\n",
       " 'sbab_mortgage_pricing_10_04_23.csv',\n",
       " '.gitkeep',\n",
       " 'ica_mortgage_pricing_30_03_23.csv',\n",
       " 'sbab_mortgage_pricing_13_04_23.csv',\n",
       " 'sbab_mortgage_pricing_20_04_23.csv',\n",
       " 'sbab_mortgage_pricing_06_04_23.csv']"
      ]
     },
     "execution_count": 5,
     "metadata": {},
     "output_type": "execute_result"
    }
   ],
   "source": [
    "os.listdir(data_directory)"
   ]
  },
  {
   "cell_type": "code",
   "execution_count": 6,
   "id": "7960d7d5",
   "metadata": {},
   "outputs": [],
   "source": [
    "# set up data import\n",
    "filepath = os.path.join(data_directory, \"sbab_mortgage_pricing_20_04_23.csv\")\n",
    "df = pd.read_csv(filepath, index_col=0)"
   ]
  },
  {
   "cell_type": "code",
   "execution_count": 7,
   "id": "7091e275",
   "metadata": {},
   "outputs": [
    {
     "data": {
      "text/html": [
       "<div>\n",
       "<style scoped>\n",
       "    .dataframe tbody tr th:only-of-type {\n",
       "        vertical-align: middle;\n",
       "    }\n",
       "\n",
       "    .dataframe tbody tr th {\n",
       "        vertical-align: top;\n",
       "    }\n",
       "\n",
       "    .dataframe thead th {\n",
       "        text-align: right;\n",
       "    }\n",
       "</style>\n",
       "<table border=\"1\" class=\"dataframe\">\n",
       "  <thead>\n",
       "    <tr style=\"text-align: right;\">\n",
       "      <th></th>\n",
       "      <th>loptidtext</th>\n",
       "      <th>interest_rate</th>\n",
       "      <th>period</th>\n",
       "      <th>effektivrantesats</th>\n",
       "      <th>loan_volume</th>\n",
       "      <th>asset_value</th>\n",
       "    </tr>\n",
       "  </thead>\n",
       "  <tbody>\n",
       "    <tr>\n",
       "      <th>0</th>\n",
       "      <td>2023-07-24</td>\n",
       "      <td>4.17</td>\n",
       "      <td>3</td>\n",
       "      <td>0.0</td>\n",
       "      <td>50000</td>\n",
       "      <td>50000</td>\n",
       "    </tr>\n",
       "    <tr>\n",
       "      <th>1</th>\n",
       "      <td>2024-04-24</td>\n",
       "      <td>4.92</td>\n",
       "      <td>12</td>\n",
       "      <td>0.0</td>\n",
       "      <td>50000</td>\n",
       "      <td>50000</td>\n",
       "    </tr>\n",
       "    <tr>\n",
       "      <th>2</th>\n",
       "      <td>2025-05-19</td>\n",
       "      <td>4.91</td>\n",
       "      <td>24</td>\n",
       "      <td>0.0</td>\n",
       "      <td>50000</td>\n",
       "      <td>50000</td>\n",
       "    </tr>\n",
       "    <tr>\n",
       "      <th>3</th>\n",
       "      <td>2026-05-19</td>\n",
       "      <td>4.73</td>\n",
       "      <td>36</td>\n",
       "      <td>0.0</td>\n",
       "      <td>50000</td>\n",
       "      <td>50000</td>\n",
       "    </tr>\n",
       "    <tr>\n",
       "      <th>4</th>\n",
       "      <td>2027-05-19</td>\n",
       "      <td>4.65</td>\n",
       "      <td>48</td>\n",
       "      <td>0.0</td>\n",
       "      <td>50000</td>\n",
       "      <td>50000</td>\n",
       "    </tr>\n",
       "  </tbody>\n",
       "</table>\n",
       "</div>"
      ],
      "text/plain": [
       "   loptidtext  interest_rate  period  effektivrantesats  loan_volume  \\\n",
       "0  2023-07-24           4.17       3                0.0        50000   \n",
       "1  2024-04-24           4.92      12                0.0        50000   \n",
       "2  2025-05-19           4.91      24                0.0        50000   \n",
       "3  2026-05-19           4.73      36                0.0        50000   \n",
       "4  2027-05-19           4.65      48                0.0        50000   \n",
       "\n",
       "   asset_value  \n",
       "0        50000  \n",
       "1        50000  \n",
       "2        50000  \n",
       "3        50000  \n",
       "4        50000  "
      ]
     },
     "execution_count": 7,
     "metadata": {},
     "output_type": "execute_result"
    }
   ],
   "source": [
    "# standardise and strip superflous columns\n",
    "superflous_cols = [\"provider\", \"effektivrantesats\", \"loptidtext\"]\n",
    "relevant_cols = [c for c in df.columns if c not in superflous_cols]\n",
    "\n",
    "df = df[relevant_cols]\n",
    "df.columns = [c.lower().strip() for c in df.columns]\n",
    "\n",
    "clean_columns_names = {\n",
    "    \"rantesats\": \"interest_rate\",\n",
    "    \"rantebindningstid\": \"period\",\n",
    "    \"loan_amount\": \"loan_volume\",\n",
    "}\n",
    "\n",
    "df = df.rename(columns=clean_columns_names)\n",
    "df.head()"
   ]
  },
  {
   "cell_type": "code",
   "execution_count": 8,
   "id": "57a427ee",
   "metadata": {},
   "outputs": [],
   "source": [
    "# adding LTV ratios and dropping rows with LTVs > 1\n",
    "df[\"ltv\"] = df.loan_volume / df.asset_value\n",
    "df = df.loc[df[\"ltv\"] <= 1]"
   ]
  },
  {
   "cell_type": "code",
   "execution_count": 9,
   "id": "c09a4a41",
   "metadata": {},
   "outputs": [],
   "source": [
    "# subset into different maturity periods ltv > 0.5\n",
    "mask = (df.period == 3) & (df.ltv >= 0.5)\n",
    "three_month_df = df.loc[mask].drop([\"period\", \"asset_value\"], axis=1)\n",
    "\n",
    "# adding discount (ambigious, but inferred through the max rate)\n",
    "three_month_df[\"discount\"] = three_month_df[\"interest_rate\"] - three_month_df[\"interest_rate\"].max()"
   ]
  },
  {
   "cell_type": "code",
   "execution_count": 10,
   "id": "36bb9316",
   "metadata": {},
   "outputs": [
    {
     "data": {
      "text/plain": [
       "(29,)"
      ]
     },
     "execution_count": 10,
     "metadata": {},
     "output_type": "execute_result"
    }
   ],
   "source": [
    "# we should get different interest rates different tuples of LTV,Volume, i.e. 2-dimensional pricing.\n",
    "# Should ~29 acc. to prior exploration\n",
    "three_month_df.interest_rate.value_counts().shape "
   ]
  },
  {
   "cell_type": "code",
   "execution_count": 11,
   "id": "51a12b61",
   "metadata": {},
   "outputs": [
    {
     "data": {
      "text/plain": [
       "0         1.000000\n",
       "8         0.500000\n",
       "1608      1.000000\n",
       "1616      0.666667\n",
       "1624      0.500000\n",
       "            ...   \n",
       "316784    0.994975\n",
       "316792    0.990000\n",
       "318384    1.000000\n",
       "318392    0.995000\n",
       "319992    1.000000\n",
       "Name: ltv, Length: 10200, dtype: float64"
      ]
     },
     "execution_count": 11,
     "metadata": {},
     "output_type": "execute_result"
    }
   ],
   "source": [
    "three_month_df[[\"loan_volume\", \"ltv\", \"discount\"]].ltv"
   ]
  },
  {
   "cell_type": "markdown",
   "id": "712b2ec5",
   "metadata": {},
   "source": [
    "### Pricing surface generation"
   ]
  },
  {
   "cell_type": "code",
   "execution_count": 12,
   "id": "c5e53b69",
   "metadata": {},
   "outputs": [],
   "source": [
    "df = three_month_df[[\"loan_volume\", \"ltv\", \"discount\"]].loc[three_month_df.ltv > 0.5]\n",
    "df = df.sort_values(by=\"loan_volume\", ascending=False)"
   ]
  },
  {
   "cell_type": "markdown",
   "id": "ea7b5f96",
   "metadata": {},
   "source": [
    "### import matplotlib.pyplot as plt\n",
    "import numpy as np\n",
    "\n",
    "plt.rcParams[\"figure.figsize\"] = (20,12)\n",
    "\n",
    "z_min, z_max = df.discount.min(), df.discount.max()\n",
    "fig, ax = plt.subplots()\n",
    "\n",
    "x = df.ltv.sort()\n",
    "y = df.loan_volume.sort(a)\n",
    "z = df.pivot(columns=[\"loan_volume\", \"ltv\"]).fillna(0).values\n",
    "c = ax.pcolormesh(x, y, z, cmap='RdBu', vmin=z.min(), vmax=z.max())\n",
    "ax.set_title('pcolormesh')\n",
    "\n",
    "# set the limits of the plot to the limits of the data\n",
    "ax.axis([df.ltv.min(), df.ltv.max(), df.loan_volume.max(), df.loan_volume.min()])\n",
    "fig.colorbar(c, ax=ax)\n",
    "\n",
    "plt.show()"
   ]
  },
  {
   "cell_type": "code",
   "execution_count": null,
   "id": "3611bc4b",
   "metadata": {},
   "outputs": [],
   "source": []
  },
  {
   "cell_type": "code",
   "execution_count": null,
   "id": "89b2bed0",
   "metadata": {},
   "outputs": [],
   "source": []
  }
 ],
 "metadata": {
  "kernelspec": {
   "display_name": "Python 3 (ipykernel)",
   "language": "python",
   "name": "python3"
  },
  "language_info": {
   "codemirror_mode": {
    "name": "ipython",
    "version": 3
   },
   "file_extension": ".py",
   "mimetype": "text/x-python",
   "name": "python",
   "nbconvert_exporter": "python",
   "pygments_lexer": "ipython3",
   "version": "3.11.1"
  }
 },
 "nbformat": 4,
 "nbformat_minor": 5
}
